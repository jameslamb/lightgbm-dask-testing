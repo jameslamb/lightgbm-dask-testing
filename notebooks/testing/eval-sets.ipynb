{
 "cells": [
  {
   "cell_type": "markdown",
   "id": "thrown-constant",
   "metadata": {},
   "source": [
    "## Eval Sets\n",
    "\n",
    "This notebook can be used too test the behavior of LightGBM when using evaluation datasets."
   ]
  },
  {
   "cell_type": "code",
   "execution_count": 1,
   "id": "documentary-facility",
   "metadata": {},
   "outputs": [],
   "source": [
    "import dask.array as da\n",
    "from dask.distributed import Client, LocalCluster, wait\n",
    "from lightgbm.dask import DaskLGBMRegressor\n",
    "from sklearn.datasets import make_regression"
   ]
  },
  {
   "cell_type": "code",
   "execution_count": 2,
   "id": "north-terminal",
   "metadata": {},
   "outputs": [
    {
     "name": "stdout",
     "output_type": "stream",
     "text": [
      "View the dashboard: http://127.0.0.1:8787/status\n"
     ]
    }
   ],
   "source": [
    "n_workers = 3\n",
    "cluster = LocalCluster(n_workers=n_workers)\n",
    "\n",
    "client = Client(cluster)\n",
    "client.wait_for_workers(n_workers)\n",
    "\n",
    "print(f\"View the dashboard: {cluster.dashboard_link}\")"
   ]
  },
  {
   "cell_type": "code",
   "execution_count": 3,
   "id": "blessed-lambda",
   "metadata": {},
   "outputs": [],
   "source": [
    "def _make_dataset(n_samples):\n",
    "    X, y = make_regression(n_samples=n_samples)\n",
    "    dX = da.from_array(X, chunks=(1000, X.shape[1]))\n",
    "    dy = da.from_array(y, chunks=1000)\n",
    "    return dX, dy\n",
    "\n",
    "# training data\n",
    "dX, dy = _make_dataset(10_000)\n",
    "\n",
    "# eval data\n",
    "dX_e, dy_e = _make_dataset(2_000)"
   ]
  },
  {
   "cell_type": "code",
   "execution_count": 7,
   "id": "limiting-flexibility",
   "metadata": {},
   "outputs": [],
   "source": [
    "reg_params = {\n",
    "    \"client\": client,\n",
    "    \"max_depth\": 5,\n",
    "    \"objective\": \"regression_l1\",\n",
    "    \"learning_rate\": 0.1,\n",
    "    \"tree_learner\": \"data\",\n",
    "    \"n_estimators\": 100,\n",
    "    \"min_child_samples\": 1\n",
    "}"
   ]
  },
  {
   "cell_type": "code",
   "execution_count": 8,
   "id": "abandoned-utilization",
   "metadata": {},
   "outputs": [
    {
     "name": "stdout",
     "output_type": "stream",
     "text": [
      "Finding random open ports for workers\n",
      "defaultdict(<class 'collections.OrderedDict'>, {'valid_0': OrderedDict([('l1', 23.068264930953998)]), 'valid_1': OrderedDict([('l1', 213.37329453022264)])})\n"
     ]
    }
   ],
   "source": [
    "# model with eval sets\n",
    "dask_reg = DaskLGBMRegressor(**reg_params)\n",
    "dask_reg.fit(\n",
    "    X=dX,\n",
    "    y=dy,\n",
    "    eval_set=[\n",
    "        (dX, dy),\n",
    "        (dX_e, dy_e)\n",
    "    ]\n",
    ")\n",
    "print(dask_reg.best_score_)"
   ]
  },
  {
   "cell_type": "code",
   "execution_count": 9,
   "id": "western-oasis",
   "metadata": {},
   "outputs": [
    {
     "name": "stdout",
     "output_type": "stream",
     "text": [
      "Finding random open ports for workers\n",
      "defaultdict(<class 'collections.OrderedDict'>, {})\n"
     ]
    }
   ],
   "source": [
    "# model without eval sets\n",
    "dask_reg = DaskLGBMRegressor(**reg_params)\n",
    "dask_reg.fit(\n",
    "    X=dX,\n",
    "    y=dy,\n",
    ")\n",
    "print(dask_reg.best_score_)"
   ]
  },
  {
   "cell_type": "code",
   "execution_count": null,
   "id": "beginning-bangladesh",
   "metadata": {},
   "outputs": [],
   "source": []
  },
  {
   "cell_type": "code",
   "execution_count": null,
   "id": "happy-practitioner",
   "metadata": {},
   "outputs": [],
   "source": []
  },
  {
   "cell_type": "code",
   "execution_count": null,
   "id": "furnished-fountain",
   "metadata": {},
   "outputs": [],
   "source": []
  },
  {
   "cell_type": "code",
   "execution_count": null,
   "id": "vertical-enemy",
   "metadata": {},
   "outputs": [],
   "source": []
  }
 ],
 "metadata": {
  "kernelspec": {
   "display_name": "Python 3",
   "language": "python",
   "name": "python3"
  },
  "language_info": {
   "codemirror_mode": {
    "name": "ipython",
    "version": 3
   },
   "file_extension": ".py",
   "mimetype": "text/x-python",
   "name": "python",
   "nbconvert_exporter": "python",
   "pygments_lexer": "ipython3",
   "version": "3.8.6"
  }
 },
 "nbformat": 4,
 "nbformat_minor": 5
}
