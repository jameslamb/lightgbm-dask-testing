{
 "cells": [
  {
   "cell_type": "markdown",
   "metadata": {},
   "source": [
    "## Dask LightGBMRanker\n",
    "\n",
    "This notebook tests `lightgbm.dask.LGBMRanker`, proposed in https://github.com/microsoft/LightGBM/pull/3708."
   ]
  },
  {
   "cell_type": "code",
   "execution_count": null,
   "metadata": {},
   "outputs": [],
   "source": [
    "import itertools\n",
    "\n",
    "import dask.array as da\n",
    "import dask.dataframe as dd\n",
    "import numpy as np\n",
    "import pandas as pd\n",
    "from dask.distributed import Client, LocalCluster\n",
    "from lightgbm.dask import DaskLGBMRanker\n",
    "from lightgbm.sklearn import LGBMRanker\n",
    "from scipy.stats import spearmanr\n",
    "from sklearn.utils import check_random_state"
   ]
  },
  {
   "cell_type": "code",
   "execution_count": null,
   "metadata": {},
   "outputs": [],
   "source": [
    "n_workers = 4\n",
    "cluster = LocalCluster(n_workers=n_workers)\n",
    "client = Client(cluster)\n",
    "client.wait_for_workers(n_workers)\n",
    "\n",
    "print(f\"View the dashboard: {cluster.dashboard_link}\")"
   ]
  },
  {
   "cell_type": "code",
   "execution_count": null,
   "metadata": {},
   "outputs": [],
   "source": [
    "def _make_ranking(\n",
    "    n_samples=100,\n",
    "    n_features=20,\n",
    "    n_informative=5,\n",
    "    gmax=1,\n",
    "    random_gs=False,\n",
    "    avg_gs=10,\n",
    "    random_state=0,\n",
    "):\n",
    "    \"\"\"Generate a learning-to-rank dataset - feature vectors grouped together with\n",
    "    integer-valued graded relevance scores. Replace this with a sklearn.datasets function\n",
    "    if ranking objective becomes supported in sklearn.datasets module.\"\"\"\n",
    "    rnd_generator = check_random_state(random_state)\n",
    "\n",
    "    y_vec, group_vec = np.empty((0,), dtype=int), np.empty((0,), dtype=int)\n",
    "    gid = 0\n",
    "\n",
    "    # build target, group ID vectors.\n",
    "    relvalues = range(gmax + 1)\n",
    "    while len(y_vec) < n_samples:\n",
    "        gsize = avg_gs if not random_gs else rnd_generator.poisson(avg_gs)\n",
    "        if not gsize:\n",
    "            continue\n",
    "\n",
    "        rel = rnd_generator.choice(relvalues, size=gsize, replace=True)\n",
    "        y_vec = np.append(y_vec, rel)\n",
    "        group_vec = np.append(group_vec, [gid] * gsize)\n",
    "        gid += 1\n",
    "\n",
    "    y_vec, group_vec = y_vec[0:n_samples], group_vec[0:n_samples]\n",
    "\n",
    "    # build feature data, X. Transform first few into informative features.\n",
    "    n_informative = max(min(n_features, n_informative), 0)\n",
    "    x_grid = np.linspace(0, stop=1, num=gmax + 2)\n",
    "    X = rnd_generator.uniform(size=(n_samples, n_features))\n",
    "\n",
    "    # make first n_informative features values bucketed according to relevance scores.\n",
    "    def bucket_fn(z):\n",
    "        return rnd_generator.uniform(x_grid[z], high=x_grid[z + 1])\n",
    "\n",
    "    for j in range(n_informative):\n",
    "        bias, coef = rnd_generator.normal(size=2)\n",
    "        X[:, j] = bias + coef * np.apply_along_axis(bucket_fn, axis=0, arr=y_vec)\n",
    "\n",
    "    return X, y_vec, group_vec\n",
    "\n",
    "\n",
    "def _create_ranking_data(n_samples=100, output=\"array\", chunk_size=50):\n",
    "    X, y, g = _make_ranking(n_samples=n_samples, random_state=42)\n",
    "    rnd = np.random.RandomState(42)\n",
    "    w = rnd.rand(X.shape[0]) * 0.01\n",
    "    g_rle = np.array([sum([1 for _ in grp]) for _, grp in itertools.groupby(g)])\n",
    "\n",
    "    if output == \"dataframe\":\n",
    "\n",
    "        # add target, weight, and group to DataFrame so that partitions abide by group boundaries.\n",
    "        X_df = pd.DataFrame(X, columns=[f\"feature_{i}\" for i in range(X.shape[1])])\n",
    "        X = X_df.copy()\n",
    "        X_df = X_df.assign(y=y, g=g, w=w)\n",
    "\n",
    "        # set_index ensures partitions are based on group id. See https://bit.ly/3pAWyNw.\n",
    "        X_df.set_index(\"g\", inplace=True)\n",
    "        dX = dd.from_pandas(X_df, chunksize=chunk_size)\n",
    "\n",
    "        # separate target, weight from features.\n",
    "        dy = dX[\"y\"]\n",
    "        dw = dX[\"w\"]\n",
    "        dX = dX.drop(columns=[\"y\", \"w\"])\n",
    "        dg = dX.index.to_series()\n",
    "\n",
    "        # encode group identifiers into run-length encoding, the format LightGBMRanker is expecting\n",
    "        # so that within each partition, sum(g) = n_samples.\n",
    "        dg = dg.map_partitions(lambda p: p.groupby(\"g\", sort=False).apply(lambda z: z.shape[0]))\n",
    "\n",
    "    elif output == \"array\":\n",
    "\n",
    "        # ranking arrays: one chunk per group. Each chunk must include all columns.\n",
    "        p = X.shape[1]\n",
    "        dX, dy, dw, dg = list(), list(), list(), list()\n",
    "        for g_idx, rhs in enumerate(np.cumsum(g_rle)):\n",
    "            lhs = rhs - g_rle[g_idx]\n",
    "            dX.append(da.from_array(X[lhs:rhs, :], chunks=(rhs - lhs, p)))\n",
    "            dy.append(da.from_array(y[lhs:rhs]))\n",
    "            dw.append(da.from_array(w[lhs:rhs]))\n",
    "            dg.append(da.from_array(np.array([g_rle[g_idx]])))\n",
    "\n",
    "        dX = da.concatenate(dX, axis=0)\n",
    "        dy = da.concatenate(dy, axis=0)\n",
    "        dw = da.concatenate(dw, axis=0)\n",
    "        dg = da.concatenate(dg, axis=0)\n",
    "\n",
    "    else:\n",
    "        raise ValueError(\"ranking data creation only supported for Dask arrays and dataframes\")\n",
    "\n",
    "    return X, y, w, g_rle, dX, dy, dw, dg"
   ]
  },
  {
   "cell_type": "markdown",
   "metadata": {},
   "source": [
    "## Test with Dask array"
   ]
  },
  {
   "cell_type": "code",
   "execution_count": null,
   "metadata": {},
   "outputs": [],
   "source": [
    "X, y, w, g, dX, dy, dw, dg = _create_ranking_data(output=\"array\")"
   ]
  },
  {
   "cell_type": "code",
   "execution_count": null,
   "metadata": {},
   "outputs": [],
   "source": [
    "dg.compute()"
   ]
  },
  {
   "cell_type": "code",
   "execution_count": null,
   "metadata": {},
   "outputs": [],
   "source": [
    "dask_ranker = DaskLGBMRanker(time_out=5, seed=42, min_child_samples=1)\n",
    "\n",
    "dask_ranker = dask_ranker.fit(X=dX, y=dy, sample_weight=dw, group=dg)\n",
    "rnkvec_dask = dask_ranker.predict(dX)\n",
    "rnkvec_dask = rnkvec_dask.compute()"
   ]
  },
  {
   "cell_type": "code",
   "execution_count": null,
   "metadata": {},
   "outputs": [],
   "source": [
    "rnkvec_dask"
   ]
  },
  {
   "cell_type": "code",
   "execution_count": null,
   "metadata": {},
   "outputs": [],
   "source": [
    "local_ranker = LGBMRanker(seed=42, min_child_samples=1)\n",
    "local_ranker.fit(X, y, sample_weight=w, group=g)\n",
    "rnkvec_local = local_ranker.predict(X)"
   ]
  },
  {
   "cell_type": "code",
   "execution_count": null,
   "metadata": {},
   "outputs": [],
   "source": [
    "# distributed ranker should be able to rank decently well.\n",
    "dcor = spearmanr(rnkvec_dask, y).correlation\n",
    "assert dcor > 0.6\n",
    "dcor"
   ]
  },
  {
   "cell_type": "code",
   "execution_count": null,
   "metadata": {},
   "outputs": [],
   "source": [
    "# relative difference between distributed ranker and local ranker spearman corr should be small.\n",
    "lcor = spearmanr(rnkvec_local, y).correlation\n",
    "print(np.abs(dcor - lcor))\n",
    "assert np.abs(dcor - lcor) < 0.003"
   ]
  }
 ],
 "metadata": {
  "kernelspec": {
   "display_name": "Python 3",
   "language": "python",
   "name": "python3"
  },
  "language_info": {
   "codemirror_mode": {
    "name": "ipython",
    "version": 3
   },
   "file_extension": ".py",
   "mimetype": "text/x-python",
   "name": "python",
   "nbconvert_exporter": "python",
   "pygments_lexer": "ipython3",
   "version": "3.8.6"
  }
 },
 "nbformat": 4,
 "nbformat_minor": 4
}
