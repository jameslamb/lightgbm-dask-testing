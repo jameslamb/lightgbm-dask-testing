{
 "cells": [
  {
   "cell_type": "markdown",
   "metadata": {},
   "source": [
    "This notebook tests `lightgbm.dask`'s behavior with sparse inputs to `pred_contrib()`."
   ]
  },
  {
   "cell_type": "code",
   "execution_count": null,
   "metadata": {},
   "outputs": [],
   "source": [
    "import dask.array as da\n",
    "import numpy as np\n",
    "from dask.distributed import Client, LocalCluster\n",
    "from lightgbm.dask import DaskLGBMClassifier\n",
    "from lightgbm.sklearn import LGBMClassifier\n",
    "from scipy.sparse import csc_matrix\n",
    "from sklearn.datasets import make_blobs"
   ]
  },
  {
   "cell_type": "code",
   "execution_count": null,
   "metadata": {},
   "outputs": [],
   "source": [
    "n_workers = 3\n",
    "cluster = LocalCluster(n_workers=n_workers)\n",
    "client = Client(cluster)\n",
    "client.wait_for_workers(n_workers)\n",
    "\n",
    "print(f\"View the dashboard: {cluster.dashboard_link}\")"
   ]
  },
  {
   "cell_type": "code",
   "execution_count": null,
   "metadata": {},
   "outputs": [],
   "source": [
    "chunk_size = 50\n",
    "X, y = make_blobs(n_samples=100, centers=3, random_state=42)\n",
    "rnd = np.random.RandomState(42)\n",
    "dX = da.from_array(X, chunks=(chunk_size, X.shape[1])).map_blocks(csc_matrix)\n",
    "dy = da.from_array(y, chunks=chunk_size)"
   ]
  },
  {
   "cell_type": "code",
   "execution_count": null,
   "metadata": {},
   "outputs": [],
   "source": [
    "dask_clf = DaskLGBMClassifier(n_estimators=5, num_leaves=2, tree_learner=\"data\")\n",
    "dask_clf.fit(dX, dy)\n",
    "\n",
    "preds = dask_clf.predict(dX, pred_contrib=True)\n",
    "preds_computed = preds.compute()\n",
    "\n",
    "print(\n",
    "    type(preds),\n",
    "    type(preds.partitions[0].compute()),\n",
    "    type(preds_computed),\n",
    "    f\"{dask_clf.n_classes_} classes, {dX.shape[1]} features\",\n",
    ")\n",
    "print(\"---\")\n",
    "print(dX.partitions[0].compute())\n",
    "print(\"---\")\n",
    "preds.compute().shape"
   ]
  },
  {
   "cell_type": "code",
   "execution_count": null,
   "metadata": {},
   "outputs": [],
   "source": [
    "preds.partitions[0].compute()"
   ]
  },
  {
   "cell_type": "code",
   "execution_count": null,
   "metadata": {},
   "outputs": [],
   "source": [
    "X = dX.compute()\n",
    "y = dy.compute()\n",
    "\n",
    "local_clf = LGBMClassifier()\n",
    "local_clf.fit(X=dX.compute(), y=y)\n",
    "local_preds = local_clf.predict(dX.compute().tocsc(), pred_contrib=True)\n",
    "\n",
    "print(local_clf.n_classes_, type(local_preds))\n",
    "print(\"---\")\n",
    "print(local_preds)"
   ]
  },
  {
   "cell_type": "code",
   "execution_count": null,
   "metadata": {},
   "outputs": [],
   "source": [
    "local_preds[0]"
   ]
  },
  {
   "cell_type": "code",
   "execution_count": null,
   "metadata": {},
   "outputs": [],
   "source": []
  }
 ],
 "metadata": {
  "kernelspec": {
   "display_name": "Python 3",
   "language": "python",
   "name": "python3"
  },
  "language_info": {
   "codemirror_mode": {
    "name": "ipython",
    "version": 3
   },
   "file_extension": ".py",
   "mimetype": "text/x-python",
   "name": "python",
   "nbconvert_exporter": "python",
   "pygments_lexer": "ipython3",
   "version": "3.8.6"
  }
 },
 "nbformat": 4,
 "nbformat_minor": 4
}
