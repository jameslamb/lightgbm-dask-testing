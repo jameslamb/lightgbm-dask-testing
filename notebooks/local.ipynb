{
 "cells": [
  {
   "cell_type": "markdown",
   "metadata": {},
   "source": [
    "This notebook was created to test https://github.com/microsoft/LightGBM/pull/3766, a fix for https://github.com/microsoft/LightGBM/issues/3753."
   ]
  },
  {
   "cell_type": "code",
   "execution_count": null,
   "metadata": {},
   "outputs": [],
   "source": [
    "import dask.array as da\n",
    "from dask.distributed import Client, LocalCluster, wait\n",
    "from lightgbm.dask import DaskLGBMRegressor"
   ]
  },
  {
   "cell_type": "markdown",
   "metadata": {},
   "source": [
    "Create a cluster with 3 workers. Since this is a `LocalCluster`, those workers are just 3 local processes."
   ]
  },
  {
   "cell_type": "code",
   "execution_count": null,
   "metadata": {},
   "outputs": [],
   "source": [
    "n_workers = 3\n",
    "cluster = LocalCluster(n_workers=n_workers)\n",
    "client = Client(cluster)\n",
    "client.wait_for_workers(n_workers)\n",
    "\n",
    "print(f\"View the dashboard: {cluster.dashboard_link}\")"
   ]
  },
  {
   "cell_type": "markdown",
   "metadata": {},
   "source": [
    "Click the link above to view a diagnostic dashboard while you run the training code below."
   ]
  },
  {
   "cell_type": "code",
   "execution_count": null,
   "metadata": {},
   "outputs": [],
   "source": [
    "for i in range(10):\n",
    "    print(f\"attempt {i}\")\n",
    "    client.restart()\n",
    "\n",
    "    num_rows = 1e6\n",
    "    num_features = 1e2\n",
    "    num_partitions = 10\n",
    "    rows_per_chunk = num_rows / num_partitions\n",
    "\n",
    "    data = da.random.random((num_rows, num_features), (rows_per_chunk, num_features))\n",
    "\n",
    "    labels = da.random.random((num_rows, 1), (rows_per_chunk, 1))\n",
    "\n",
    "    data = data.persist()\n",
    "    labels = labels.persist()\n",
    "    _ = wait(data)\n",
    "    _ = wait(labels)\n",
    "\n",
    "    dask_reg = DaskLGBMRegressor(\n",
    "        silent=False,\n",
    "        max_depth=5,\n",
    "        random_state=708,\n",
    "        objective=\"regression_l2\",\n",
    "        learning_rate=0.1,\n",
    "        tree_learner=\"data\",\n",
    "        n_estimators=10,\n",
    "        min_child_samples=1,\n",
    "        n_jobs=-1,\n",
    "        local_listen_port=12400,\n",
    "    )\n",
    "\n",
    "    dask_reg.fit(\n",
    "        client=client,\n",
    "        X=data,\n",
    "        y=labels,\n",
    "    )"
   ]
  },
  {
   "cell_type": "code",
   "execution_count": null,
   "metadata": {},
   "outputs": [],
   "source": [
    "dask_reg.to_local().booster_.trees_to_dataframe()"
   ]
  },
  {
   "cell_type": "code",
   "execution_count": null,
   "metadata": {},
   "outputs": [],
   "source": [
    "cluster.workers"
   ]
  },
  {
   "cell_type": "code",
   "execution_count": null,
   "metadata": {},
   "outputs": [],
   "source": [
    "lines = open(\"/proc/net/tcp\").readlines()\n",
    "for line in lines:\n",
    "    if \"124\" in line:\n",
    "        print(line)"
   ]
  },
  {
   "cell_type": "code",
   "execution_count": null,
   "metadata": {},
   "outputs": [],
   "source": [
    "import socket\n",
    "\n",
    "location = (\"127.0.0.1\", 12402)\n",
    "a_socket = socket.socket(socket.AF_INET, socket.SOCK_STREAM)\n",
    "result_of_check = a_socket.connect_ex(location)\n",
    "print(result_of_check)\n",
    "a_socket.close()"
   ]
  },
  {
   "cell_type": "code",
   "execution_count": null,
   "metadata": {},
   "outputs": [],
   "source": [
    "s = socket.socket(socket.AF_INET, socket.SOCK_STREAM)\n",
    "ip = \"127.0.0.1\"\n",
    "port = 12400\n",
    "s.connect((ip, int(port)))\n",
    "s.shutdown(2)"
   ]
  },
  {
   "cell_type": "code",
   "execution_count": null,
   "metadata": {},
   "outputs": [],
   "source": [
    "import socket\n",
    "import time\n",
    "\n",
    "HOST = \"127.0.0.1\"\n",
    "PORT = 12402\n",
    "\n",
    "with socket.socket(socket.AF_INET, socket.SOCK_STREAM) as s:\n",
    "    s.bind((HOST, PORT))\n",
    "    s.listen()\n",
    "    conn, addr = s.accept()\n",
    "    with conn:\n",
    "        print(\"Connected by\", addr)\n",
    "        while True:\n",
    "            data = conn.recv(1024)\n",
    "            if not data:\n",
    "                break\n",
    "            conn.sendall(data)\n",
    "    time.sleep(25)"
   ]
  },
  {
   "cell_type": "code",
   "execution_count": null,
   "metadata": {},
   "outputs": [],
   "source": [
    "import socket\n",
    "import time\n",
    "\n",
    "HOST = \"127.0.0.1\"\n",
    "PORT = 12402\n",
    "\n",
    "with socket.socket(socket.AF_INET, socket.SOCK_STREAM) as s:\n",
    "    s.connect((HOST, PORT))"
   ]
  },
  {
   "cell_type": "markdown",
   "metadata": {},
   "source": [
    "## References\n",
    "\n",
    "* https://realpython.com/python-sockets/\n",
    "* http://www.serverframework.com/asynchronousevents/2011/01/time-wait-and-its-design-implications-for-protocols-and-scalable-servers.html"
   ]
  },
  {
   "cell_type": "code",
   "execution_count": null,
   "metadata": {},
   "outputs": [],
   "source": []
  }
 ],
 "metadata": {
  "kernelspec": {
   "display_name": "Python 3",
   "language": "python",
   "name": "python3"
  },
  "language_info": {
   "codemirror_mode": {
    "name": "ipython",
    "version": 3
   },
   "file_extension": ".py",
   "mimetype": "text/x-python",
   "name": "python",
   "nbconvert_exporter": "python",
   "pygments_lexer": "ipython3",
   "version": "3.8.3"
  }
 },
 "nbformat": 4,
 "nbformat_minor": 4
}
