{
 "cells": [
  {
   "cell_type": "markdown",
   "metadata": {},
   "source": [
    "# LightGBM + Dask"
   ]
  },
  {
   "cell_type": "markdown",
   "metadata": {},
   "source": [
    "This notebook shows how to use `lightgbm.dask` to train a LightGBM model on data stored as a [Dask DataFrame](https://docs.dask.org/en/latest/dataframe.html) or [Dask Array](https://docs.dask.org/en/latest/array.html).\n",
    "\n",
    "It uses `LocalCluster` to run on this machine only. If you want to try with a distributed cluster on AWS Fargate, see [the AWS notebook](./aws.ipynb)."
   ]
  },
  {
   "cell_type": "code",
   "execution_count": 1,
   "metadata": {},
   "outputs": [],
   "source": [
    "import dask.array as da\n",
    "from dask.distributed import Client, LocalCluster, wait\n",
    "from lightgbm.dask import DaskLGBMRegressor\n",
    "from sklearn.datasets import make_regression"
   ]
  },
  {
   "cell_type": "markdown",
   "metadata": {},
   "source": [
    "## Set up a Dask cluster\n",
    "\n",
    "Create a cluster with 3 workers. Since this is a `LocalCluster`, those workers are just 3 local processes."
   ]
  },
  {
   "cell_type": "code",
   "execution_count": 2,
   "metadata": {},
   "outputs": [
    {
     "name": "stdout",
     "output_type": "stream",
     "text": [
      "View the dashboard: http://127.0.0.1:8787/status\n"
     ]
    }
   ],
   "source": [
    "n_workers = 3\n",
    "cluster = LocalCluster(n_workers=n_workers)\n",
    "client = Client(cluster)\n",
    "client.wait_for_workers(n_workers)\n",
    "\n",
    "print(f\"View the dashboard: {cluster.dashboard_link}\")"
   ]
  },
  {
   "cell_type": "markdown",
   "metadata": {},
   "source": [
    "Click the link above to view a diagnostic dashboard while you run the training code below."
   ]
  },
  {
   "cell_type": "markdown",
   "metadata": {},
   "source": [
    "## Get Some Training Data"
   ]
  },
  {
   "cell_type": "code",
   "execution_count": 5,
   "metadata": {},
   "outputs": [],
   "source": [
    "X, y = make_regression(n_samples=10000, random_state=42)\n",
    "dX = da.from_array(X, chunks=(1000, X.shape[1]))\n",
    "dy = da.from_array(y, chunks=1000)"
   ]
  },
  {
   "cell_type": "code",
   "execution_count": null,
   "metadata": {},
   "outputs": [],
   "source": [
    "num_rows = 1e5\n",
    "num_features = 1e2\n",
    "num_partitions = 10\n",
    "rows_per_chunk = num_rows / num_partitions\n",
    "\n",
    "data = da.random.random((num_rows, num_features), (rows_per_chunk, num_features))\n",
    "\n",
    "labels = da.random.random((num_rows,), (rows_per_chunk,))"
   ]
  },
  {
   "cell_type": "markdown",
   "metadata": {},
   "source": [
    "Right now, the Dask Arrays `data` and `labels` are lazy. Before training, you can force the cluster to compute them by running `.persist()` and then wait for that computation to finish by `wait()`-ing on them."
   ]
  },
  {
   "cell_type": "code",
   "execution_count": 6,
   "metadata": {},
   "outputs": [],
   "source": [
    "dX = dX.persist()\n",
    "dy = dy.persist()\n",
    "_ = wait([dX, dy])"
   ]
  },
  {
   "cell_type": "markdown",
   "metadata": {},
   "source": [
    "## Train a model"
   ]
  },
  {
   "cell_type": "markdown",
   "metadata": {},
   "source": [
    "With the data set up on the workers, train a model. `lightgbm.dask.DaskLGBMRegressor` has an interface that tries to stay as close as possible to the non-Dask scikit-learn interface to LightGBM (`lightgbm.sklearn.LGBMRegressor`)."
   ]
  },
  {
   "cell_type": "code",
   "execution_count": 7,
   "metadata": {},
   "outputs": [
    {
     "data": {
      "text/plain": [
       "DaskLGBMRegressor(client=<Client: 'tcp://127.0.0.1:39759' processes=3 threads=3, memory=2.08 GB>,\n",
       "                  local_listen_port=12400,\n",
       "                  machines='127.0.0.1:12400,127.0.0.1:12401,127.0.0.1:12402',\n",
       "                  max_depth=5, min_child_samples=1, n_estimators=10,\n",
       "                  num_machines=3, num_threads=1, objective='regression_l2',\n",
       "                  random_state=708, silent=False, time_out=120,\n",
       "                  tree_learner='data')"
      ]
     },
     "execution_count": 7,
     "metadata": {},
     "output_type": "execute_result"
    }
   ],
   "source": [
    "dask_reg = DaskLGBMRegressor(\n",
    "    client=client,\n",
    "    silent=False,\n",
    "    max_depth=5,\n",
    "    random_state=708,\n",
    "    objective=\"regression_l2\",\n",
    "    learning_rate=0.1,\n",
    "    tree_learner=\"data\",\n",
    "    n_estimators=10,\n",
    "    min_child_samples=1,\n",
    "    n_jobs=-1,\n",
    ")\n",
    "\n",
    "dask_reg.fit(\n",
    "    X=dX,\n",
    "    y=dy,\n",
    ")"
   ]
  },
  {
   "cell_type": "markdown",
   "metadata": {},
   "source": [
    "## Evaluate the model"
   ]
  },
  {
   "cell_type": "code",
   "execution_count": null,
   "metadata": {},
   "outputs": [],
   "source": [
    "preds = "
   ]
  },
  {
   "cell_type": "markdown",
   "metadata": {},
   "source": [
    "The model produced by this training run is an instance of `DaskLGBMRegressor`. To get a regular non-Dask model (which can be pickled and saved), run `.to_local()`."
   ]
  },
  {
   "cell_type": "code",
   "execution_count": 8,
   "metadata": {},
   "outputs": [
    {
     "data": {
      "text/plain": [
       "lightgbm.sklearn.LGBMRegressor"
      ]
     },
     "execution_count": 8,
     "metadata": {},
     "output_type": "execute_result"
    }
   ],
   "source": [
    "local_model = dask_reg.to_local()\n",
    "type(local_model)"
   ]
  },
  {
   "cell_type": "markdown",
   "metadata": {},
   "source": [
    "You can visualize this model by looking at a data frame representation of it."
   ]
  },
  {
   "cell_type": "code",
   "execution_count": 9,
   "metadata": {},
   "outputs": [
    {
     "data": {
      "text/html": [
       "<div>\n",
       "<style scoped>\n",
       "    .dataframe tbody tr th:only-of-type {\n",
       "        vertical-align: middle;\n",
       "    }\n",
       "\n",
       "    .dataframe tbody tr th {\n",
       "        vertical-align: top;\n",
       "    }\n",
       "\n",
       "    .dataframe thead th {\n",
       "        text-align: right;\n",
       "    }\n",
       "</style>\n",
       "<table border=\"1\" class=\"dataframe\">\n",
       "  <thead>\n",
       "    <tr style=\"text-align: right;\">\n",
       "      <th></th>\n",
       "      <th>tree_index</th>\n",
       "      <th>node_depth</th>\n",
       "      <th>node_index</th>\n",
       "      <th>left_child</th>\n",
       "      <th>right_child</th>\n",
       "      <th>parent_index</th>\n",
       "      <th>split_feature</th>\n",
       "      <th>split_gain</th>\n",
       "      <th>threshold</th>\n",
       "      <th>decision_type</th>\n",
       "      <th>missing_direction</th>\n",
       "      <th>missing_type</th>\n",
       "      <th>value</th>\n",
       "      <th>weight</th>\n",
       "      <th>count</th>\n",
       "    </tr>\n",
       "  </thead>\n",
       "  <tbody>\n",
       "    <tr>\n",
       "      <th>0</th>\n",
       "      <td>0</td>\n",
       "      <td>1</td>\n",
       "      <td>0-S0</td>\n",
       "      <td>0-S2</td>\n",
       "      <td>0-S1</td>\n",
       "      <td>None</td>\n",
       "      <td>Column_52</td>\n",
       "      <td>53967200.0</td>\n",
       "      <td>-0.087022</td>\n",
       "      <td>&lt;=</td>\n",
       "      <td>left</td>\n",
       "      <td>None</td>\n",
       "      <td>-1.380680</td>\n",
       "      <td>0.0</td>\n",
       "      <td>10000</td>\n",
       "    </tr>\n",
       "    <tr>\n",
       "      <th>1</th>\n",
       "      <td>0</td>\n",
       "      <td>2</td>\n",
       "      <td>0-S2</td>\n",
       "      <td>0-S6</td>\n",
       "      <td>0-S4</td>\n",
       "      <td>0-S0</td>\n",
       "      <td>Column_94</td>\n",
       "      <td>21943500.0</td>\n",
       "      <td>0.014280</td>\n",
       "      <td>&lt;=</td>\n",
       "      <td>left</td>\n",
       "      <td>None</td>\n",
       "      <td>-9.071060</td>\n",
       "      <td>4793.0</td>\n",
       "      <td>4793</td>\n",
       "    </tr>\n",
       "    <tr>\n",
       "      <th>2</th>\n",
       "      <td>0</td>\n",
       "      <td>3</td>\n",
       "      <td>0-S6</td>\n",
       "      <td>0-S16</td>\n",
       "      <td>0-S8</td>\n",
       "      <td>0-S2</td>\n",
       "      <td>Column_23</td>\n",
       "      <td>10207000.0</td>\n",
       "      <td>-0.664254</td>\n",
       "      <td>&lt;=</td>\n",
       "      <td>left</td>\n",
       "      <td>None</td>\n",
       "      <td>-15.824600</td>\n",
       "      <td>2401.0</td>\n",
       "      <td>2401</td>\n",
       "    </tr>\n",
       "    <tr>\n",
       "      <th>3</th>\n",
       "      <td>0</td>\n",
       "      <td>4</td>\n",
       "      <td>0-S16</td>\n",
       "      <td>0-L0</td>\n",
       "      <td>0-S29</td>\n",
       "      <td>0-S6</td>\n",
       "      <td>Column_58</td>\n",
       "      <td>2463690.0</td>\n",
       "      <td>0.026021</td>\n",
       "      <td>&lt;=</td>\n",
       "      <td>left</td>\n",
       "      <td>None</td>\n",
       "      <td>-27.260700</td>\n",
       "      <td>589.0</td>\n",
       "      <td>589</td>\n",
       "    </tr>\n",
       "    <tr>\n",
       "      <th>4</th>\n",
       "      <td>0</td>\n",
       "      <td>5</td>\n",
       "      <td>0-L0</td>\n",
       "      <td>None</td>\n",
       "      <td>None</td>\n",
       "      <td>0-S16</td>\n",
       "      <td>None</td>\n",
       "      <td>NaN</td>\n",
       "      <td>NaN</td>\n",
       "      <td>None</td>\n",
       "      <td>None</td>\n",
       "      <td>None</td>\n",
       "      <td>-33.522770</td>\n",
       "      <td>304.0</td>\n",
       "      <td>304</td>\n",
       "    </tr>\n",
       "    <tr>\n",
       "      <th>...</th>\n",
       "      <td>...</td>\n",
       "      <td>...</td>\n",
       "      <td>...</td>\n",
       "      <td>...</td>\n",
       "      <td>...</td>\n",
       "      <td>...</td>\n",
       "      <td>...</td>\n",
       "      <td>...</td>\n",
       "      <td>...</td>\n",
       "      <td>...</td>\n",
       "      <td>...</td>\n",
       "      <td>...</td>\n",
       "      <td>...</td>\n",
       "      <td>...</td>\n",
       "      <td>...</td>\n",
       "    </tr>\n",
       "    <tr>\n",
       "      <th>605</th>\n",
       "      <td>9</td>\n",
       "      <td>6</td>\n",
       "      <td>9-L6</td>\n",
       "      <td>None</td>\n",
       "      <td>None</td>\n",
       "      <td>9-S22</td>\n",
       "      <td>None</td>\n",
       "      <td>NaN</td>\n",
       "      <td>NaN</td>\n",
       "      <td>None</td>\n",
       "      <td>None</td>\n",
       "      <td>None</td>\n",
       "      <td>-1.614494</td>\n",
       "      <td>121.0</td>\n",
       "      <td>121</td>\n",
       "    </tr>\n",
       "    <tr>\n",
       "      <th>606</th>\n",
       "      <td>9</td>\n",
       "      <td>6</td>\n",
       "      <td>9-L23</td>\n",
       "      <td>None</td>\n",
       "      <td>None</td>\n",
       "      <td>9-S22</td>\n",
       "      <td>None</td>\n",
       "      <td>NaN</td>\n",
       "      <td>NaN</td>\n",
       "      <td>None</td>\n",
       "      <td>None</td>\n",
       "      <td>None</td>\n",
       "      <td>6.909675</td>\n",
       "      <td>212.0</td>\n",
       "      <td>212</td>\n",
       "    </tr>\n",
       "    <tr>\n",
       "      <th>607</th>\n",
       "      <td>9</td>\n",
       "      <td>5</td>\n",
       "      <td>9-S15</td>\n",
       "      <td>9-L11</td>\n",
       "      <td>9-L16</td>\n",
       "      <td>9-S10</td>\n",
       "      <td>Column_94</td>\n",
       "      <td>1242230.0</td>\n",
       "      <td>0.788213</td>\n",
       "      <td>&lt;=</td>\n",
       "      <td>left</td>\n",
       "      <td>None</td>\n",
       "      <td>11.775900</td>\n",
       "      <td>1175.0</td>\n",
       "      <td>1175</td>\n",
       "    </tr>\n",
       "    <tr>\n",
       "      <th>608</th>\n",
       "      <td>9</td>\n",
       "      <td>6</td>\n",
       "      <td>9-L11</td>\n",
       "      <td>None</td>\n",
       "      <td>None</td>\n",
       "      <td>9-S15</td>\n",
       "      <td>None</td>\n",
       "      <td>NaN</td>\n",
       "      <td>NaN</td>\n",
       "      <td>None</td>\n",
       "      <td>None</td>\n",
       "      <td>None</td>\n",
       "      <td>10.042623</td>\n",
       "      <td>915.0</td>\n",
       "      <td>915</td>\n",
       "    </tr>\n",
       "    <tr>\n",
       "      <th>609</th>\n",
       "      <td>9</td>\n",
       "      <td>6</td>\n",
       "      <td>9-L16</td>\n",
       "      <td>None</td>\n",
       "      <td>None</td>\n",
       "      <td>9-S15</td>\n",
       "      <td>None</td>\n",
       "      <td>NaN</td>\n",
       "      <td>NaN</td>\n",
       "      <td>None</td>\n",
       "      <td>None</td>\n",
       "      <td>None</td>\n",
       "      <td>17.875533</td>\n",
       "      <td>260.0</td>\n",
       "      <td>260</td>\n",
       "    </tr>\n",
       "  </tbody>\n",
       "</table>\n",
       "<p>610 rows × 15 columns</p>\n",
       "</div>"
      ],
      "text/plain": [
       "     tree_index  node_depth node_index left_child right_child parent_index  \\\n",
       "0             0           1       0-S0       0-S2        0-S1         None   \n",
       "1             0           2       0-S2       0-S6        0-S4         0-S0   \n",
       "2             0           3       0-S6      0-S16        0-S8         0-S2   \n",
       "3             0           4      0-S16       0-L0       0-S29         0-S6   \n",
       "4             0           5       0-L0       None        None        0-S16   \n",
       "..          ...         ...        ...        ...         ...          ...   \n",
       "605           9           6       9-L6       None        None        9-S22   \n",
       "606           9           6      9-L23       None        None        9-S22   \n",
       "607           9           5      9-S15      9-L11       9-L16        9-S10   \n",
       "608           9           6      9-L11       None        None        9-S15   \n",
       "609           9           6      9-L16       None        None        9-S15   \n",
       "\n",
       "    split_feature  split_gain  threshold decision_type missing_direction  \\\n",
       "0       Column_52  53967200.0  -0.087022            <=              left   \n",
       "1       Column_94  21943500.0   0.014280            <=              left   \n",
       "2       Column_23  10207000.0  -0.664254            <=              left   \n",
       "3       Column_58   2463690.0   0.026021            <=              left   \n",
       "4            None         NaN        NaN          None              None   \n",
       "..            ...         ...        ...           ...               ...   \n",
       "605          None         NaN        NaN          None              None   \n",
       "606          None         NaN        NaN          None              None   \n",
       "607     Column_94   1242230.0   0.788213            <=              left   \n",
       "608          None         NaN        NaN          None              None   \n",
       "609          None         NaN        NaN          None              None   \n",
       "\n",
       "    missing_type      value  weight  count  \n",
       "0           None  -1.380680     0.0  10000  \n",
       "1           None  -9.071060  4793.0   4793  \n",
       "2           None -15.824600  2401.0   2401  \n",
       "3           None -27.260700   589.0    589  \n",
       "4           None -33.522770   304.0    304  \n",
       "..           ...        ...     ...    ...  \n",
       "605         None  -1.614494   121.0    121  \n",
       "606         None   6.909675   212.0    212  \n",
       "607         None  11.775900  1175.0   1175  \n",
       "608         None  10.042623   915.0    915  \n",
       "609         None  17.875533   260.0    260  \n",
       "\n",
       "[610 rows x 15 columns]"
      ]
     },
     "execution_count": 9,
     "metadata": {},
     "output_type": "execute_result"
    }
   ],
   "source": [
    "local_model.booster_.trees_to_dataframe()"
   ]
  },
  {
   "cell_type": "code",
   "execution_count": null,
   "metadata": {},
   "outputs": [],
   "source": []
  }
 ],
 "metadata": {
  "kernelspec": {
   "display_name": "Python 3",
   "language": "python",
   "name": "python3"
  },
  "language_info": {
   "codemirror_mode": {
    "name": "ipython",
    "version": 3
   },
   "file_extension": ".py",
   "mimetype": "text/x-python",
   "name": "python",
   "nbconvert_exporter": "python",
   "pygments_lexer": "ipython3",
   "version": "3.8.6"
  }
 },
 "nbformat": 4,
 "nbformat_minor": 4
}
